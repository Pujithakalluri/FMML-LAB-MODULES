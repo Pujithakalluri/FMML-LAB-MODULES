{
  "nbformat": 4,
  "nbformat_minor": 0,
  "metadata": {
    "colab": {
      "provenance": [],
      "authorship_tag": "ABX9TyMJSIjWTEWEXRp6x3QcolvJ",
      "include_colab_link": true
    },
    "kernelspec": {
      "name": "python3",
      "display_name": "Python 3"
    },
    "language_info": {
      "name": "python"
    }
  },
  "cells": [
    {
      "cell_type": "markdown",
      "metadata": {
        "id": "view-in-github",
        "colab_type": "text"
      },
      "source": [
        "<a href=\"https://colab.research.google.com/github/Pujithakalluri/FMML-LAB-MODULES/blob/main/Recodamation_system_py.ipynb\" target=\"_parent\"><img src=\"https://colab.research.google.com/assets/colab-badge.svg\" alt=\"Open In Colab\"/></a>"
      ]
    },
    {
      "cell_type": "code",
      "execution_count": 1,
      "metadata": {
        "colab": {
          "base_uri": "https://localhost:8080/"
        },
        "id": "Mt8cVwJNEa_m",
        "outputId": "18000865-21df-4553-d26e-5b8395eeffc5"
      },
      "outputs": [
        {
          "output_type": "stream",
          "name": "stdout",
          "text": [
            "Recommendations:\n",
            "Movie A - Similarity: 0.82\n",
            "Movie B - Similarity: 0.82\n",
            "Movie E - Similarity: 0.82\n",
            "Movie C - Similarity: 0.41\n",
            "Movie D - Similarity: 0.41\n"
          ]
        }
      ],
      "source": [
        "import numpy as np\n",
        "from sklearn.metrics.pairwise import cosine_similarity\n",
        "from sklearn.preprocessing import MultiLabelBinarizer\n",
        "\n",
        "movies_data = [\n",
        "    (1, \"Movie A\", [\"Action\", \"Adventure\"]),\n",
        "    (2, \"Movie B\", [\"Adventure\", \"Comedy\"]),\n",
        "    (3, \"Movie C\", [\"Action\", \"Drama\"]),\n",
        "    (4, \"Movie D\", [\"Comedy\", \"Romance\"]),\n",
        "    (5, \"Movie E\", [\"Action\", \"Comedy\"])\n",
        "]\n",
        "\n",
        "user_genres = [\"Action\", \"Adventure\", \"Comedy\"]\n",
        "\n",
        "mlb = MultiLabelBinarizer()\n",
        "movies_genres = [movie[2] for movie in movies_data]\n",
        "movies_genres_binary = mlb.fit_transform(movies_genres)\n",
        "\n",
        "user_genres_binary = mlb.transform([user_genres])\n",
        "\n",
        "similarities = cosine_similarity(user_genres_binary, movies_genres_binary)\n",
        "\n",
        "recommendations = [(movies_data[i][1], similarities[0][i]) for i in range(len(movies_data))]\n",
        "recommendations.sort(key=lambda x: x[1], reverse=True)\n",
        "\n",
        "print(\"Recommendations:\")\n",
        "for movie, similarity in recommendations:\n",
        "    print(f\"{movie} - Similarity: {similarity:.2f}\")"
      ]
    }
  ]
}